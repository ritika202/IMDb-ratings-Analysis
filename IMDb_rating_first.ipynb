{
 "cells": [
  {
   "cell_type": "markdown",
   "id": "7403f840",
   "metadata": {},
   "source": [
    "### Importing the libraries"
   ]
  },
  {
   "cell_type": "code",
   "execution_count": 2,
   "id": "97e2a318",
   "metadata": {},
   "outputs": [],
   "source": [
    "import pandas as pd\n",
    "import numpy as np"
   ]
  },
  {
   "cell_type": "markdown",
   "id": "507d3243",
   "metadata": {},
   "source": [
    "### Importing the dataset"
   ]
  },
  {
   "cell_type": "code",
   "execution_count": 3,
   "id": "3bf712c6",
   "metadata": {},
   "outputs": [],
   "source": [
    "dataset=pd.read_csv('Movies_RatingData.csv')"
   ]
  },
  {
   "cell_type": "markdown",
   "id": "81dd2b8b",
   "metadata": {},
   "source": [
    "### Arrange dataset"
   ]
  },
  {
   "cell_type": "code",
   "execution_count": 4,
   "id": "33e5c08e",
   "metadata": {},
   "outputs": [],
   "source": [
    "dataset.rename(columns={'num_critic_for_reviews':'reviews',\n",
    "                        'num_voted_users':'votes',\n",
    "                        'cast_total_facebook_likes':'total_likes',\n",
    "                        },inplace='true')"
   ]
  },
  {
   "cell_type": "code",
   "execution_count": 5,
   "id": "8332011b",
   "metadata": {},
   "outputs": [],
   "source": [
    "dataset=dataset[[\n",
    "         'movie_title',\n",
    "         'movie_imdb_link',\n",
    "         'color',\n",
    "         'director_name',\n",
    "         'actor_1_name',\n",
    "         'actor_2_name',\n",
    "         'actor_3_name',\n",
    "         'genres',\n",
    "         'plot_keywords',\n",
    "         'country',\n",
    "         'language',\n",
    "         'director_facebook_likes',\n",
    "         'actor_1_facebook_likes',\n",
    "         'actor_2_facebook_likes',\n",
    "         'actor_3_facebook_likes',\n",
    "         'movie_facebook_likes',\n",
    "         'total_likes',\n",
    "         'reviews',\n",
    "         'duration',\n",
    "         'gross',\n",
    "         'votes',\n",
    "         'budget',\n",
    "         'num_user_for_reviews',\n",
    "         'facenumber_in_poster',\n",
    "         'aspect_ratio',\n",
    "         'title_year',\n",
    "         'content_rating',\n",
    "         'imdb_score']]"
   ]
  },
  {
   "cell_type": "markdown",
   "id": "d70d9d03",
   "metadata": {},
   "source": [
    "### Dividing the dataset"
   ]
  },
  {
   "cell_type": "code",
   "execution_count": 6,
   "id": "fef534d2",
   "metadata": {},
   "outputs": [],
   "source": [
    "X=dataset.iloc[:,2:-1]\n",
    "Y=dataset.iloc[:,-1]"
   ]
  },
  {
   "cell_type": "markdown",
   "id": "2a8b90cd",
   "metadata": {},
   "source": [
    "## Taking care of missing values"
   ]
  },
  {
   "cell_type": "code",
   "execution_count": 7,
   "id": "6107f04a",
   "metadata": {},
   "outputs": [],
   "source": [
    "from sklearn.impute import SimpleImputer\n",
    "imputer_freq=SimpleImputer(missing_values=np.nan,strategy='most_frequent',verbose=0,copy=True)\n",
    "imputer_mean=SimpleImputer(missing_values=np.nan,strategy='mean',verbose=0,copy=True)\n",
    "X.iloc[:,[0,1,2,3,4,5,6,7,8,23,24]]=imputer_freq.fit_transform(X.iloc[:,[0,1,2,3,4,5,6,7,8,23,24]])\n",
    "X.iloc[:,9:23]=imputer_mean.fit_transform(X.iloc[:,9:23])"
   ]
  },
  {
   "cell_type": "markdown",
   "id": "8159ef0b",
   "metadata": {},
   "source": [
    "###### For the efficiency"
   ]
  },
  {
   "cell_type": "code",
   "execution_count": 8,
   "id": "b90cfb56",
   "metadata": {},
   "outputs": [],
   "source": [
    "import datetime as current\n",
    "X['title_year']=current.datetime.now().year-X['title_year']"
   ]
  },
  {
   "cell_type": "markdown",
   "id": "9d1205a3",
   "metadata": {},
   "source": [
    "## Encoding the categorical columns using OneHotEncoder"
   ]
  },
  {
   "cell_type": "code",
   "execution_count": 9,
   "id": "576a42eb",
   "metadata": {},
   "outputs": [],
   "source": [
    "from sklearn.preprocessing import OneHotEncoder\n",
    "oh=OneHotEncoder()\n",
    "categorical_columns=['color','country','language','content_rating']\n",
    "x_one_hot= pd.DataFrame(oh.fit_transform(X.loc[:,categorical_columns]).toarray())\n",
    "X=pd.concat([ x_one_hot, X.drop(columns=categorical_columns) ],axis=1)"
   ]
  },
  {
   "cell_type": "markdown",
   "id": "eea98ac4",
   "metadata": {},
   "source": [
    "## Encoding the keywords using Vectorizer"
   ]
  },
  {
   "cell_type": "code",
   "execution_count": 10,
   "id": "3ccb6728",
   "metadata": {},
   "outputs": [],
   "source": [
    "from sklearn.feature_extraction.text import CountVectorizer,TfidfVectorizer\n",
    "cv=CountVectorizer()\n",
    "tf=TfidfVectorizer(min_df=round(dataset.shape[0]/100))\n",
    "x_genres=pd.DataFrame(cv.fit_transform(X['genres']).toarray())\n",
    "x_plot=  pd.DataFrame(tf.fit_transform(X['plot_keywords']).toarray())\n",
    "X=pd.concat([ x_genres,x_plot, X.drop(columns=['genres','plot_keywords'])],axis=1)"
   ]
  },
  {
   "cell_type": "markdown",
   "id": "2ebfafef",
   "metadata": {},
   "source": [
    "## Encoding the names using TargetEncoder"
   ]
  },
  {
   "cell_type": "code",
   "execution_count": 11,
   "id": "8010e5b4",
   "metadata": {},
   "outputs": [],
   "source": [
    "from category_encoders.target_encoder import TargetEncoder\n",
    "te=TargetEncoder(verbose=0,drop_invariant=False,smoothing=9)\n",
    "target_columns=['director_name','actor_1_name','actor_2_name','actor_3_name']\n",
    "x_target=te.fit_transform(X.loc[:,target_columns],Y)\n",
    "X=pd.concat([ X.drop(columns=target_columns), x_target ],axis=1)"
   ]
  }
 ],
 "metadata": {
  "kernelspec": {
   "display_name": "Python 3 (ipykernel)",
   "language": "python",
   "name": "python3"
  },
  "language_info": {
   "codemirror_mode": {
    "name": "ipython",
    "version": 3
   },
   "file_extension": ".py",
   "mimetype": "text/x-python",
   "name": "python",
   "nbconvert_exporter": "python",
   "pygments_lexer": "ipython3",
   "version": "3.9.7"
  }
 },
 "nbformat": 4,
 "nbformat_minor": 5
}
